{
 "cells": [
  {
   "cell_type": "code",
   "execution_count": 5,
   "metadata": {},
   "outputs": [],
   "source": [
    "import os\n",
    "from pydub import AudioSegment\n",
    "\n",
    "# must specify for each language as of now\n",
    "path = \"/Users/cwl21/github/project/data/French\"\n",
    "\n",
    "os.chdir(path)\n",
    "\n",
    "audio_files = os.listdir()\n",
    "\n",
    "# You dont need the number of files in the folder, just iterate over them directly using:\n",
    "for file in audio_files:\n",
    "    #spliting the file into the name and the extension\n",
    "    name, ext = os.path.splitext(file)\n",
    "    if ext == \".mp3\":\n",
    "       mp3_sound = AudioSegment.from_mp3(file)\n",
    "       #rename them using the old name + \".wav\"\n",
    "       mp3_sound.export(\"{0}.wav\".format(name), format=\"wav\")\n"
   ]
  },
  {
   "cell_type": "code",
   "execution_count": null,
   "metadata": {},
   "outputs": [],
   "source": []
  },
  {
   "cell_type": "code",
   "execution_count": null,
   "metadata": {},
   "outputs": [],
   "source": []
  }
 ],
 "metadata": {
  "kernelspec": {
   "display_name": "Python 3",
   "language": "python",
   "name": "python3"
  },
  "language_info": {
   "codemirror_mode": {
    "name": "ipython",
    "version": 3
   },
   "file_extension": ".py",
   "mimetype": "text/x-python",
   "name": "python",
   "nbconvert_exporter": "python",
   "pygments_lexer": "ipython3",
   "version": "3.7.4"
  }
 },
 "nbformat": 4,
 "nbformat_minor": 2
}
