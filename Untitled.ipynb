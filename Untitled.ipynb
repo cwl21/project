{
 "cells": [
  {
   "cell_type": "code",
   "execution_count": null,
   "outputs": [],
   "source": [
    "import pandas as pd\n",
    "import numpy as np\n",
    "from matplotlib import pyplot as plt\n",
    "import seaborn as sns"
   ],
   "metadata": {
    "collapsed": false,
    "pycharm": {
     "name": "#%%\n"
    }
   }
  },
  {
   "cell_type": "code",
   "execution_count": null,
   "outputs": [],
   "source": [
    "_ = plt.hist(df_swing['dem_share'], bins = 10)\n",
    "plt.show()\n",
    "\n",
    "sns.set()\n",
    "_ = sns.hist(df_swing['dem__share'], bins = 10)"
   ],
   "metadata": {
    "collapsed": false,
    "pycharm": {
     "name": "#%%\n"
    }
   }
  },
  {
   "cell_type": "markdown",
   "source": [
    "n_data = len(''''''array'''''')\n",
    "n_bins = int(np.sqrt(n_data))"
   ],
   "metadata": {
    "collapsed": false,
    "pycharm": {
     "name": "#%% md\n"
    }
   }
  },
  {
   "cell_type": "markdown",
   "source": [
    "Plots"
   ],
   "metadata": {
    "collapsed": false
   }
  },
  {
   "cell_type": "code",
   "execution_count": null,
   "outputs": [],
   "source": [
    "#histogram\n",
    "plt.hist(''''''variable'''''', bins = n_bins)\n",
    "#bee swarm plot\n",
    "sns.swarmplot(x = ''''''grouping variable'''''', y=''''''data_variable'''''', data = ''''''dataframe'''''')\n",
    "plt.xlabel('grouping var name')\n",
    "plt.ylabel('info for data variable')\n",
    "\n",
    "plt.show()\n"
   ],
   "metadata": {
    "collapsed": false,
    "pycharm": {
     "name": "#%%\n"
    }
   }
  }
 ],
 "metadata": {
  "pycharm": {
   "stem_cell": {
    "cell_type": "raw",
    "source": [
     "\n",
     "Import needed modules"
    ],
    "metadata": {
     "collapsed": false
    }
   }
  }
 },
 "nbformat": 4,
 "nbformat_minor": 2
}