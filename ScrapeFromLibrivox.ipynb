{
 "cells": [
  {
   "cell_type": "code",
   "execution_count": 110,
   "metadata": {},
   "outputs": [
    {
     "name": "stdout",
     "output_type": "stream",
     "text": [
      "https://librivox.org/\n",
      "#\n",
      "https://librivox.org/pages/about-librivox\n",
      "https://forum.librivox.org/\n",
      "https://librivox.org/pages/contact-librivox\n",
      "https://librivox.org/pages/help\n",
      "http://twitter.com/librivox\n",
      "https://librivox.org/pages/librivox-feeds\n",
      "#\n",
      "#\n",
      "#\n",
      "#\n",
      "#\n",
      "#\n",
      "#\n",
      "#\n",
      "https://librivox.org/pages/donate-to-librivox/\n",
      "https://librivox.org/pages/thank-a-reader/\n",
      "#\n"
     ]
    }
   ],
   "source": [
    "from __future__ import unicode_literals\n",
    "import pandas as pd\n",
    "import bs4\n",
    "import requests\n",
    "import os\n",
    "import html5lib\n",
    "\n",
    "lang_numcount = 2 #2 = french\n",
    "base = \"https://librivox.org/search?primary_key=\"+ str(count) + \"&search_category=language&search_page=1&search_form=get_results\"\n",
    "\n",
    "#where do I get the book title from the search page?  confirm language is NOT multilingual\n",
    "\n",
    "booktitle = 'compilation-de-poemes-007-by-various'\n",
    "downloadpage = 'https://librivox.org/' + booktitle + '/'\n",
    "\n",
    "\n",
    "r=requests.get(base)\n",
    "soup = bs4.BeautifulSoup(r.content, 'html5lib') \n",
    "\n",
    "for link in soup.find_all('a'):\n",
    "    print(link.get('href'))\n",
    "    \n"
   ]
  },
  {
   "cell_type": "code",
   "execution_count": 55,
   "metadata": {},
   "outputs": [
    {
     "data": {
      "text/plain": [
       "[]"
      ]
     },
     "execution_count": 55,
     "metadata": {},
     "output_type": "execute_result"
    }
   ],
   "source": [
    "quotes"
   ]
  },
  {
   "cell_type": "code",
   "execution_count": null,
   "metadata": {},
   "outputs": [],
   "source": []
  }
 ],
 "metadata": {
  "kernelspec": {
   "display_name": "Python 3",
   "language": "python",
   "name": "python3"
  },
  "language_info": {
   "codemirror_mode": {
    "name": "ipython",
    "version": 3
   },
   "file_extension": ".py",
   "mimetype": "text/x-python",
   "name": "python",
   "nbconvert_exporter": "python",
   "pygments_lexer": "ipython3",
   "version": "3.7.4"
  }
 },
 "nbformat": 4,
 "nbformat_minor": 2
}
